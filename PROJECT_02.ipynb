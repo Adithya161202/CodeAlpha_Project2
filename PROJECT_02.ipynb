{
 "cells": [
  {
   "cell_type": "markdown",
   "id": "87170f86",
   "metadata": {},
   "source": [
    "# TASK 02 : DATA PREPROCESSING\n",
    "\n",
    "## Handle missing values and outliers appropriately . Normalize or scale features as needed . Split the data into training and testing sets."
   ]
  },
  {
   "cell_type": "markdown",
   "id": "d222ede6",
   "metadata": {},
   "source": [
    "### Importing all required libraries ."
   ]
  },
  {
   "cell_type": "code",
   "execution_count": 73,
   "id": "fde771cb",
   "metadata": {},
   "outputs": [],
   "source": [
    "import pandas as pd\n",
    "import matplotlib.pyplot as plt\n",
    "import seaborn as sns\n",
    "from sklearn.model_selection import train_test_split \n",
    "from sklearn.preprocessing import StandardScaler \n"
   ]
  },
  {
   "cell_type": "markdown",
   "id": "846552fb",
   "metadata": {},
   "source": [
    "### Loading dataset ."
   ]
  },
  {
   "cell_type": "code",
   "execution_count": 74,
   "id": "dd6877e0",
   "metadata": {},
   "outputs": [
    {
     "data": {
      "text/html": [
       "<div>\n",
       "<style scoped>\n",
       "    .dataframe tbody tr th:only-of-type {\n",
       "        vertical-align: middle;\n",
       "    }\n",
       "\n",
       "    .dataframe tbody tr th {\n",
       "        vertical-align: top;\n",
       "    }\n",
       "\n",
       "    .dataframe thead th {\n",
       "        text-align: right;\n",
       "    }\n",
       "</style>\n",
       "<table border=\"1\" class=\"dataframe\">\n",
       "  <thead>\n",
       "    <tr style=\"text-align: right;\">\n",
       "      <th></th>\n",
       "      <th>id</th>\n",
       "      <th>age</th>\n",
       "      <th>gender</th>\n",
       "      <th>height</th>\n",
       "      <th>ap_hi</th>\n",
       "      <th>ap_lo</th>\n",
       "      <th>cholesterol</th>\n",
       "      <th>gluc</th>\n",
       "      <th>smoke</th>\n",
       "      <th>alco</th>\n",
       "      <th>active</th>\n",
       "      <th>cardio</th>\n",
       "      <th>age_years</th>\n",
       "      <th>bmi</th>\n",
       "      <th>bp_category</th>\n",
       "      <th>bp_category_encoded</th>\n",
       "      <th>weight</th>\n",
       "    </tr>\n",
       "  </thead>\n",
       "  <tbody>\n",
       "    <tr>\n",
       "      <th>0</th>\n",
       "      <td>0</td>\n",
       "      <td>18393.0</td>\n",
       "      <td>2</td>\n",
       "      <td>168</td>\n",
       "      <td>110.0</td>\n",
       "      <td>80</td>\n",
       "      <td>1.0</td>\n",
       "      <td>1</td>\n",
       "      <td>0</td>\n",
       "      <td>0.0</td>\n",
       "      <td>1.0</td>\n",
       "      <td>0</td>\n",
       "      <td>50</td>\n",
       "      <td>21.967120</td>\n",
       "      <td>Hypertension Stage 1</td>\n",
       "      <td>Hypertension Stage 1</td>\n",
       "      <td>85.0</td>\n",
       "    </tr>\n",
       "    <tr>\n",
       "      <th>1</th>\n",
       "      <td>1</td>\n",
       "      <td>20228.0</td>\n",
       "      <td>1</td>\n",
       "      <td>156</td>\n",
       "      <td>140.0</td>\n",
       "      <td>90</td>\n",
       "      <td>3.0</td>\n",
       "      <td>1</td>\n",
       "      <td>0</td>\n",
       "      <td>0.0</td>\n",
       "      <td>1.0</td>\n",
       "      <td>1</td>\n",
       "      <td>55</td>\n",
       "      <td>34.927679</td>\n",
       "      <td>Hypertension Stage 2</td>\n",
       "      <td>Hypertension Stage 2</td>\n",
       "      <td>64.0</td>\n",
       "    </tr>\n",
       "    <tr>\n",
       "      <th>2</th>\n",
       "      <td>2</td>\n",
       "      <td>18857.0</td>\n",
       "      <td>1</td>\n",
       "      <td>165</td>\n",
       "      <td>130.0</td>\n",
       "      <td>70</td>\n",
       "      <td>3.0</td>\n",
       "      <td>1</td>\n",
       "      <td>0</td>\n",
       "      <td>0.0</td>\n",
       "      <td>0.0</td>\n",
       "      <td>1</td>\n",
       "      <td>51</td>\n",
       "      <td>23.507805</td>\n",
       "      <td>Hypertension Stage 1</td>\n",
       "      <td>Hypertension Stage 1</td>\n",
       "      <td>82.0</td>\n",
       "    </tr>\n",
       "    <tr>\n",
       "      <th>3</th>\n",
       "      <td>3</td>\n",
       "      <td>17623.0</td>\n",
       "      <td>2</td>\n",
       "      <td>169</td>\n",
       "      <td>150.0</td>\n",
       "      <td>100</td>\n",
       "      <td>1.0</td>\n",
       "      <td>1</td>\n",
       "      <td>0</td>\n",
       "      <td>0.0</td>\n",
       "      <td>1.0</td>\n",
       "      <td>1</td>\n",
       "      <td>48</td>\n",
       "      <td>28.710479</td>\n",
       "      <td>Hypertension Stage 2</td>\n",
       "      <td>Hypertension Stage 2</td>\n",
       "      <td>56.0</td>\n",
       "    </tr>\n",
       "    <tr>\n",
       "      <th>4</th>\n",
       "      <td>4</td>\n",
       "      <td>17474.0</td>\n",
       "      <td>1</td>\n",
       "      <td>156</td>\n",
       "      <td>100.0</td>\n",
       "      <td>60</td>\n",
       "      <td>1.0</td>\n",
       "      <td>1</td>\n",
       "      <td>0</td>\n",
       "      <td>0.0</td>\n",
       "      <td>0.0</td>\n",
       "      <td>0</td>\n",
       "      <td>47</td>\n",
       "      <td>23.011177</td>\n",
       "      <td>Normal</td>\n",
       "      <td>Normal</td>\n",
       "      <td>67.0</td>\n",
       "    </tr>\n",
       "  </tbody>\n",
       "</table>\n",
       "</div>"
      ],
      "text/plain": [
       "   id      age  gender  height  ap_hi  ap_lo  cholesterol  gluc  smoke  alco  \\\n",
       "0   0  18393.0       2     168  110.0     80          1.0     1      0   0.0   \n",
       "1   1  20228.0       1     156  140.0     90          3.0     1      0   0.0   \n",
       "2   2  18857.0       1     165  130.0     70          3.0     1      0   0.0   \n",
       "3   3  17623.0       2     169  150.0    100          1.0     1      0   0.0   \n",
       "4   4  17474.0       1     156  100.0     60          1.0     1      0   0.0   \n",
       "\n",
       "   active  cardio  age_years        bmi           bp_category  \\\n",
       "0     1.0       0         50  21.967120  Hypertension Stage 1   \n",
       "1     1.0       1         55  34.927679  Hypertension Stage 2   \n",
       "2     0.0       1         51  23.507805  Hypertension Stage 1   \n",
       "3     1.0       1         48  28.710479  Hypertension Stage 2   \n",
       "4     0.0       0         47  23.011177                Normal   \n",
       "\n",
       "    bp_category_encoded  weight  \n",
       "0  Hypertension Stage 1    85.0  \n",
       "1  Hypertension Stage 2    64.0  \n",
       "2  Hypertension Stage 1    82.0  \n",
       "3  Hypertension Stage 2    56.0  \n",
       "4                Normal    67.0  "
      ]
     },
     "execution_count": 74,
     "metadata": {},
     "output_type": "execute_result"
    }
   ],
   "source": [
    "df = pd.read_csv(\"Dataset2.csv\")\n",
    "df.head()"
   ]
  },
  {
   "cell_type": "code",
   "execution_count": 75,
   "id": "75411ecb",
   "metadata": {},
   "outputs": [
    {
     "data": {
      "text/html": [
       "<div>\n",
       "<style scoped>\n",
       "    .dataframe tbody tr th:only-of-type {\n",
       "        vertical-align: middle;\n",
       "    }\n",
       "\n",
       "    .dataframe tbody tr th {\n",
       "        vertical-align: top;\n",
       "    }\n",
       "\n",
       "    .dataframe thead th {\n",
       "        text-align: right;\n",
       "    }\n",
       "</style>\n",
       "<table border=\"1\" class=\"dataframe\">\n",
       "  <thead>\n",
       "    <tr style=\"text-align: right;\">\n",
       "      <th></th>\n",
       "      <th>id</th>\n",
       "      <th>age</th>\n",
       "      <th>gender</th>\n",
       "      <th>height</th>\n",
       "      <th>ap_hi</th>\n",
       "      <th>ap_lo</th>\n",
       "      <th>cholesterol</th>\n",
       "      <th>gluc</th>\n",
       "      <th>smoke</th>\n",
       "      <th>alco</th>\n",
       "      <th>active</th>\n",
       "      <th>cardio</th>\n",
       "      <th>age_years</th>\n",
       "      <th>bmi</th>\n",
       "      <th>bp_category</th>\n",
       "      <th>bp_category_encoded</th>\n",
       "      <th>weight</th>\n",
       "    </tr>\n",
       "  </thead>\n",
       "  <tbody>\n",
       "    <tr>\n",
       "      <th>0</th>\n",
       "      <td>0</td>\n",
       "      <td>18393.0</td>\n",
       "      <td>2</td>\n",
       "      <td>168</td>\n",
       "      <td>110.0</td>\n",
       "      <td>80</td>\n",
       "      <td>1.0</td>\n",
       "      <td>1</td>\n",
       "      <td>0</td>\n",
       "      <td>0.0</td>\n",
       "      <td>1.0</td>\n",
       "      <td>0</td>\n",
       "      <td>50</td>\n",
       "      <td>21.967120</td>\n",
       "      <td>Hypertension Stage 1</td>\n",
       "      <td>Hypertension Stage 1</td>\n",
       "      <td>85.0</td>\n",
       "    </tr>\n",
       "    <tr>\n",
       "      <th>1</th>\n",
       "      <td>1</td>\n",
       "      <td>20228.0</td>\n",
       "      <td>1</td>\n",
       "      <td>156</td>\n",
       "      <td>140.0</td>\n",
       "      <td>90</td>\n",
       "      <td>3.0</td>\n",
       "      <td>1</td>\n",
       "      <td>0</td>\n",
       "      <td>0.0</td>\n",
       "      <td>1.0</td>\n",
       "      <td>1</td>\n",
       "      <td>55</td>\n",
       "      <td>34.927679</td>\n",
       "      <td>Hypertension Stage 2</td>\n",
       "      <td>Hypertension Stage 2</td>\n",
       "      <td>64.0</td>\n",
       "    </tr>\n",
       "    <tr>\n",
       "      <th>2</th>\n",
       "      <td>2</td>\n",
       "      <td>18857.0</td>\n",
       "      <td>1</td>\n",
       "      <td>165</td>\n",
       "      <td>130.0</td>\n",
       "      <td>70</td>\n",
       "      <td>3.0</td>\n",
       "      <td>1</td>\n",
       "      <td>0</td>\n",
       "      <td>0.0</td>\n",
       "      <td>0.0</td>\n",
       "      <td>1</td>\n",
       "      <td>51</td>\n",
       "      <td>23.507805</td>\n",
       "      <td>Hypertension Stage 1</td>\n",
       "      <td>Hypertension Stage 1</td>\n",
       "      <td>82.0</td>\n",
       "    </tr>\n",
       "    <tr>\n",
       "      <th>3</th>\n",
       "      <td>3</td>\n",
       "      <td>17623.0</td>\n",
       "      <td>2</td>\n",
       "      <td>169</td>\n",
       "      <td>150.0</td>\n",
       "      <td>100</td>\n",
       "      <td>1.0</td>\n",
       "      <td>1</td>\n",
       "      <td>0</td>\n",
       "      <td>0.0</td>\n",
       "      <td>1.0</td>\n",
       "      <td>1</td>\n",
       "      <td>48</td>\n",
       "      <td>28.710479</td>\n",
       "      <td>Hypertension Stage 2</td>\n",
       "      <td>Hypertension Stage 2</td>\n",
       "      <td>56.0</td>\n",
       "    </tr>\n",
       "    <tr>\n",
       "      <th>4</th>\n",
       "      <td>4</td>\n",
       "      <td>17474.0</td>\n",
       "      <td>1</td>\n",
       "      <td>156</td>\n",
       "      <td>100.0</td>\n",
       "      <td>60</td>\n",
       "      <td>1.0</td>\n",
       "      <td>1</td>\n",
       "      <td>0</td>\n",
       "      <td>0.0</td>\n",
       "      <td>0.0</td>\n",
       "      <td>0</td>\n",
       "      <td>47</td>\n",
       "      <td>23.011177</td>\n",
       "      <td>Normal</td>\n",
       "      <td>Normal</td>\n",
       "      <td>67.0</td>\n",
       "    </tr>\n",
       "  </tbody>\n",
       "</table>\n",
       "</div>"
      ],
      "text/plain": [
       "   id      age  gender  height  ap_hi  ap_lo  cholesterol  gluc  smoke  alco  \\\n",
       "0   0  18393.0       2     168  110.0     80          1.0     1      0   0.0   \n",
       "1   1  20228.0       1     156  140.0     90          3.0     1      0   0.0   \n",
       "2   2  18857.0       1     165  130.0     70          3.0     1      0   0.0   \n",
       "3   3  17623.0       2     169  150.0    100          1.0     1      0   0.0   \n",
       "4   4  17474.0       1     156  100.0     60          1.0     1      0   0.0   \n",
       "\n",
       "   active  cardio  age_years        bmi           bp_category  \\\n",
       "0     1.0       0         50  21.967120  Hypertension Stage 1   \n",
       "1     1.0       1         55  34.927679  Hypertension Stage 2   \n",
       "2     0.0       1         51  23.507805  Hypertension Stage 1   \n",
       "3     1.0       1         48  28.710479  Hypertension Stage 2   \n",
       "4     0.0       0         47  23.011177                Normal   \n",
       "\n",
       "    bp_category_encoded  weight  \n",
       "0  Hypertension Stage 1    85.0  \n",
       "1  Hypertension Stage 2    64.0  \n",
       "2  Hypertension Stage 1    82.0  \n",
       "3  Hypertension Stage 2    56.0  \n",
       "4                Normal    67.0  "
      ]
     },
     "execution_count": 75,
     "metadata": {},
     "output_type": "execute_result"
    }
   ],
   "source": [
    "df.head()"
   ]
  },
  {
   "cell_type": "code",
   "execution_count": 76,
   "id": "dbc6e7b4",
   "metadata": {},
   "outputs": [
    {
     "data": {
      "text/html": [
       "<div>\n",
       "<style scoped>\n",
       "    .dataframe tbody tr th:only-of-type {\n",
       "        vertical-align: middle;\n",
       "    }\n",
       "\n",
       "    .dataframe tbody tr th {\n",
       "        vertical-align: top;\n",
       "    }\n",
       "\n",
       "    .dataframe thead th {\n",
       "        text-align: right;\n",
       "    }\n",
       "</style>\n",
       "<table border=\"1\" class=\"dataframe\">\n",
       "  <thead>\n",
       "    <tr style=\"text-align: right;\">\n",
       "      <th></th>\n",
       "      <th>id</th>\n",
       "      <th>age</th>\n",
       "      <th>gender</th>\n",
       "      <th>height</th>\n",
       "      <th>ap_hi</th>\n",
       "      <th>ap_lo</th>\n",
       "      <th>cholesterol</th>\n",
       "      <th>gluc</th>\n",
       "      <th>smoke</th>\n",
       "      <th>alco</th>\n",
       "      <th>active</th>\n",
       "      <th>cardio</th>\n",
       "      <th>age_years</th>\n",
       "      <th>bmi</th>\n",
       "      <th>bp_category</th>\n",
       "      <th>bp_category_encoded</th>\n",
       "      <th>weight</th>\n",
       "    </tr>\n",
       "  </thead>\n",
       "  <tbody>\n",
       "    <tr>\n",
       "      <th>994</th>\n",
       "      <td>1421</td>\n",
       "      <td>14715.0</td>\n",
       "      <td>1</td>\n",
       "      <td>166</td>\n",
       "      <td>110.0</td>\n",
       "      <td>70</td>\n",
       "      <td>1.0</td>\n",
       "      <td>1</td>\n",
       "      <td>0</td>\n",
       "      <td>0.0</td>\n",
       "      <td>1.0</td>\n",
       "      <td>0</td>\n",
       "      <td>40</td>\n",
       "      <td>23.225432</td>\n",
       "      <td>Normal</td>\n",
       "      <td>Normal</td>\n",
       "      <td>64.0</td>\n",
       "    </tr>\n",
       "    <tr>\n",
       "      <th>995</th>\n",
       "      <td>1423</td>\n",
       "      <td>22401.0</td>\n",
       "      <td>1</td>\n",
       "      <td>158</td>\n",
       "      <td>130.0</td>\n",
       "      <td>90</td>\n",
       "      <td>1.0</td>\n",
       "      <td>2</td>\n",
       "      <td>0</td>\n",
       "      <td>0.0</td>\n",
       "      <td>1.0</td>\n",
       "      <td>1</td>\n",
       "      <td>61</td>\n",
       "      <td>32.046146</td>\n",
       "      <td>Hypertension Stage 1</td>\n",
       "      <td>Hypertension Stage 1</td>\n",
       "      <td>80.0</td>\n",
       "    </tr>\n",
       "    <tr>\n",
       "      <th>996</th>\n",
       "      <td>1426</td>\n",
       "      <td>18398.0</td>\n",
       "      <td>2</td>\n",
       "      <td>165</td>\n",
       "      <td>150.0</td>\n",
       "      <td>90</td>\n",
       "      <td>1.0</td>\n",
       "      <td>1</td>\n",
       "      <td>0</td>\n",
       "      <td>0.0</td>\n",
       "      <td>1.0</td>\n",
       "      <td>0</td>\n",
       "      <td>50</td>\n",
       "      <td>22.773186</td>\n",
       "      <td>Hypertension Stage 2</td>\n",
       "      <td>Hypertension Stage 2</td>\n",
       "      <td>62.0</td>\n",
       "    </tr>\n",
       "    <tr>\n",
       "      <th>997</th>\n",
       "      <td>1427</td>\n",
       "      <td>23362.0</td>\n",
       "      <td>2</td>\n",
       "      <td>171</td>\n",
       "      <td>120.0</td>\n",
       "      <td>80</td>\n",
       "      <td>1.0</td>\n",
       "      <td>1</td>\n",
       "      <td>0</td>\n",
       "      <td>0.0</td>\n",
       "      <td>1.0</td>\n",
       "      <td>0</td>\n",
       "      <td>64</td>\n",
       "      <td>23.255019</td>\n",
       "      <td>Hypertension Stage 1</td>\n",
       "      <td>Hypertension Stage 1</td>\n",
       "      <td>68.0</td>\n",
       "    </tr>\n",
       "    <tr>\n",
       "      <th>998</th>\n",
       "      <td>1429</td>\n",
       "      <td>21118.0</td>\n",
       "      <td>1</td>\n",
       "      <td>158</td>\n",
       "      <td>130.0</td>\n",
       "      <td>80</td>\n",
       "      <td>1.0</td>\n",
       "      <td>1</td>\n",
       "      <td>0</td>\n",
       "      <td>0.0</td>\n",
       "      <td>0.0</td>\n",
       "      <td>0</td>\n",
       "      <td>57</td>\n",
       "      <td>31.645570</td>\n",
       "      <td>Hypertension Stage 1</td>\n",
       "      <td>Hypertension Stage 1</td>\n",
       "      <td>79.0</td>\n",
       "    </tr>\n",
       "  </tbody>\n",
       "</table>\n",
       "</div>"
      ],
      "text/plain": [
       "       id      age  gender  height  ap_hi  ap_lo  cholesterol  gluc  smoke  \\\n",
       "994  1421  14715.0       1     166  110.0     70          1.0     1      0   \n",
       "995  1423  22401.0       1     158  130.0     90          1.0     2      0   \n",
       "996  1426  18398.0       2     165  150.0     90          1.0     1      0   \n",
       "997  1427  23362.0       2     171  120.0     80          1.0     1      0   \n",
       "998  1429  21118.0       1     158  130.0     80          1.0     1      0   \n",
       "\n",
       "     alco  active  cardio  age_years        bmi           bp_category  \\\n",
       "994   0.0     1.0       0         40  23.225432                Normal   \n",
       "995   0.0     1.0       1         61  32.046146  Hypertension Stage 1   \n",
       "996   0.0     1.0       0         50  22.773186  Hypertension Stage 2   \n",
       "997   0.0     1.0       0         64  23.255019  Hypertension Stage 1   \n",
       "998   0.0     0.0       0         57  31.645570  Hypertension Stage 1   \n",
       "\n",
       "      bp_category_encoded  weight  \n",
       "994                Normal    64.0  \n",
       "995  Hypertension Stage 1    80.0  \n",
       "996  Hypertension Stage 2    62.0  \n",
       "997  Hypertension Stage 1    68.0  \n",
       "998  Hypertension Stage 1    79.0  "
      ]
     },
     "execution_count": 76,
     "metadata": {},
     "output_type": "execute_result"
    }
   ],
   "source": [
    "df.tail()"
   ]
  },
  {
   "cell_type": "code",
   "execution_count": 77,
   "id": "aa8f722a",
   "metadata": {
    "scrolled": false
   },
   "outputs": [
    {
     "name": "stdout",
     "output_type": "stream",
     "text": [
      "<class 'pandas.core.frame.DataFrame'>\n",
      "RangeIndex: 999 entries, 0 to 998\n",
      "Data columns (total 17 columns):\n",
      " #   Column               Non-Null Count  Dtype  \n",
      "---  ------               --------------  -----  \n",
      " 0   id                   999 non-null    int64  \n",
      " 1   age                  998 non-null    float64\n",
      " 2   gender               999 non-null    int64  \n",
      " 3   height               999 non-null    int64  \n",
      " 4   ap_hi                998 non-null    float64\n",
      " 5   ap_lo                999 non-null    int64  \n",
      " 6   cholesterol          998 non-null    float64\n",
      " 7   gluc                 999 non-null    int64  \n",
      " 8   smoke                999 non-null    int64  \n",
      " 9   alco                 998 non-null    float64\n",
      " 10  active               998 non-null    float64\n",
      " 11  cardio               999 non-null    int64  \n",
      " 12  age_years            999 non-null    int64  \n",
      " 13  bmi                  998 non-null    float64\n",
      " 14  bp_category          997 non-null    object \n",
      " 15  bp_category_encoded  999 non-null    object \n",
      " 16  weight               999 non-null    float64\n",
      "dtypes: float64(7), int64(8), object(2)\n",
      "memory usage: 132.8+ KB\n"
     ]
    }
   ],
   "source": [
    "df.info()"
   ]
  },
  {
   "cell_type": "markdown",
   "id": "815d239f",
   "metadata": {},
   "source": [
    "## Data Cleaning ."
   ]
  },
  {
   "cell_type": "code",
   "execution_count": 78,
   "id": "853548b6",
   "metadata": {},
   "outputs": [
    {
     "name": "stdout",
     "output_type": "stream",
     "text": [
      "No Duplicated Rows\n"
     ]
    }
   ],
   "source": [
    "#identifying duplicate values\n",
    "dup_row=df[df.duplicated()]\n",
    "if len(dup_row)>0:\n",
    "    print(\"Duplicated Rows:\")\n",
    "    print(dup_row)\n",
    "else:\n",
    "    print(\"No Duplicated Rows\")"
   ]
  },
  {
   "cell_type": "markdown",
   "id": "8cf5d588",
   "metadata": {},
   "source": [
    "### Handling the missing values . "
   ]
  },
  {
   "cell_type": "code",
   "execution_count": 79,
   "id": "dc917527",
   "metadata": {},
   "outputs": [
    {
     "name": "stdout",
     "output_type": "stream",
     "text": [
      "Missing Values\n",
      "id                     0\n",
      "age                    1\n",
      "gender                 0\n",
      "height                 0\n",
      "ap_hi                  1\n",
      "ap_lo                  0\n",
      "cholesterol            1\n",
      "gluc                   0\n",
      "smoke                  0\n",
      "alco                   1\n",
      "active                 1\n",
      "cardio                 0\n",
      "age_years              0\n",
      "bmi                    1\n",
      "bp_category            2\n",
      "bp_category_encoded    0\n",
      "weight                 0\n",
      "dtype: int64\n"
     ]
    }
   ],
   "source": [
    "#identifying missing values\n",
    "missingValues=df.isnull().sum()\n",
    "\n",
    "print(\"Missing Values\")\n",
    "print(missingValues)"
   ]
  },
  {
   "cell_type": "code",
   "execution_count": 80,
   "id": "0de4a50e",
   "metadata": {},
   "outputs": [
    {
     "name": "stdout",
     "output_type": "stream",
     "text": [
      "       id      age  gender  height  ap_hi  ap_lo  cholesterol  gluc  smoke  \\\n",
      "0       0  18393.0       2     168  110.0     80          1.0     1      0   \n",
      "1       1  20228.0       1     156  140.0     90          3.0     1      0   \n",
      "2       2  18857.0       1     165  130.0     70          3.0     1      0   \n",
      "3       3  17623.0       2     169  150.0    100          1.0     1      0   \n",
      "4       4  17474.0       1     156  100.0     60          1.0     1      0   \n",
      "..    ...      ...     ...     ...    ...    ...          ...   ...    ...   \n",
      "994  1421  14715.0       1     166  110.0     70          1.0     1      0   \n",
      "995  1423  22401.0       1     158  130.0     90          1.0     2      0   \n",
      "996  1426  18398.0       2     165  150.0     90          1.0     1      0   \n",
      "997  1427  23362.0       2     171  120.0     80          1.0     1      0   \n",
      "998  1429  21118.0       1     158  130.0     80          1.0     1      0   \n",
      "\n",
      "     alco  active  cardio  age_years        bmi           bp_category  \\\n",
      "0     0.0     1.0       0         50  21.967120  Hypertension Stage 1   \n",
      "1     0.0     1.0       1         55  34.927679  Hypertension Stage 2   \n",
      "2     0.0     0.0       1         51  23.507805  Hypertension Stage 1   \n",
      "3     0.0     1.0       1         48  28.710479  Hypertension Stage 2   \n",
      "4     0.0     0.0       0         47  23.011177                Normal   \n",
      "..    ...     ...     ...        ...        ...                   ...   \n",
      "994   0.0     1.0       0         40  23.225432                Normal   \n",
      "995   0.0     1.0       1         61  32.046146  Hypertension Stage 1   \n",
      "996   0.0     1.0       0         50  22.773186  Hypertension Stage 2   \n",
      "997   0.0     1.0       0         64  23.255019  Hypertension Stage 1   \n",
      "998   0.0     0.0       0         57  31.645570  Hypertension Stage 1   \n",
      "\n",
      "      bp_category_encoded  weight  \n",
      "0    Hypertension Stage 1    85.0  \n",
      "1    Hypertension Stage 2    64.0  \n",
      "2    Hypertension Stage 1    82.0  \n",
      "3    Hypertension Stage 2    56.0  \n",
      "4                  Normal    67.0  \n",
      "..                    ...     ...  \n",
      "994                Normal    64.0  \n",
      "995  Hypertension Stage 1    80.0  \n",
      "996  Hypertension Stage 2    62.0  \n",
      "997  Hypertension Stage 1    68.0  \n",
      "998  Hypertension Stage 1    79.0  \n",
      "\n",
      "[991 rows x 17 columns]\n"
     ]
    }
   ],
   "source": [
    "df_dropped_rows = df.dropna()\n",
    "print(df_dropped_rows)"
   ]
  },
  {
   "cell_type": "code",
   "execution_count": 81,
   "id": "5cd027e1",
   "metadata": {},
   "outputs": [
    {
     "name": "stdout",
     "output_type": "stream",
     "text": [
      "<class 'pandas.core.frame.DataFrame'>\n",
      "Index: 991 entries, 0 to 998\n",
      "Data columns (total 17 columns):\n",
      " #   Column               Non-Null Count  Dtype  \n",
      "---  ------               --------------  -----  \n",
      " 0   id                   991 non-null    int64  \n",
      " 1   age                  991 non-null    float64\n",
      " 2   gender               991 non-null    int64  \n",
      " 3   height               991 non-null    int64  \n",
      " 4   ap_hi                991 non-null    float64\n",
      " 5   ap_lo                991 non-null    int64  \n",
      " 6   cholesterol          991 non-null    float64\n",
      " 7   gluc                 991 non-null    int64  \n",
      " 8   smoke                991 non-null    int64  \n",
      " 9   alco                 991 non-null    float64\n",
      " 10  active               991 non-null    float64\n",
      " 11  cardio               991 non-null    int64  \n",
      " 12  age_years            991 non-null    int64  \n",
      " 13  bmi                  991 non-null    float64\n",
      " 14  bp_category          991 non-null    object \n",
      " 15  bp_category_encoded  991 non-null    object \n",
      " 16  weight               991 non-null    float64\n",
      "dtypes: float64(7), int64(8), object(2)\n",
      "memory usage: 139.4+ KB\n"
     ]
    }
   ],
   "source": [
    "df_dropped_rows.info()\n"
   ]
  },
  {
   "cell_type": "markdown",
   "id": "5f60c7ed",
   "metadata": {},
   "source": [
    "### Handling Outliers . "
   ]
  },
  {
   "cell_type": "code",
   "execution_count": 82,
   "id": "84bbcc47",
   "metadata": {},
   "outputs": [
    {
     "data": {
      "image/png": "[encoded data removed]",
      "text/plain": [
       "<Figure size 700x500 with 1 Axes>"
      ]
     },
     "metadata": {},
     "output_type": "display_data"
    }
   ],
   "source": [
    "#checking the outliers for bmi\n",
    "plt.figure(figsize=(7,5))\n",
    "sns.boxplot(df['bmi'])\n",
    "plt.title('Boxplot of BMI')\n",
    "plt.xlabel('BMI')\n",
    "plt.show()\n"
   ]
  },
  {
   "cell_type": "code",
   "execution_count": 83,
   "id": "40344e89",
   "metadata": {
    "scrolled": false
   },
   "outputs": [
    {
     "data": {
      "image/png": "[encoded data removed]",
      "text/plain": [
       "<Figure size 700x500 with 1 Axes>"
      ]
     },
     "metadata": {},
     "output_type": "display_data"
    }
   ],
   "source": [
    "#checking the outliers for weight\n",
    "plt.figure(figsize=(7,5))\n",
    "sns.boxplot(df['weight'])\n",
    "plt.title('Boxplot of weight')\n",
    "plt.xlabel('Weight')\n",
    "plt.show()"
   ]
  },
  {
   "cell_type": "code",
   "execution_count": 84,
   "id": "a69bf6f6",
   "metadata": {},
   "outputs": [
    {
     "data": {
      "image/png": "[encoded data removed]",
      "text/plain": [
       "<Figure size 700x500 with 1 Axes>"
      ]
     },
     "metadata": {},
     "output_type": "display_data"
    }
   ],
   "source": [
    "#checking the outliers for age\n",
    "plt.figure(figsize=(7,5))\n",
    "sns.boxplot(df['age_years'])\n",
    "plt.title('Boxplot of Age')\n",
    "plt.xlabel('Age')\n",
    "plt.show()"
   ]
  },
  {
   "cell_type": "code",
   "execution_count": 85,
   "id": "755f0d58",
   "metadata": {},
   "outputs": [
    {
     "data": {
      "image/png": "[encoded data removed]",
      "text/plain": [
       "<Figure size 700x500 with 1 Axes>"
      ]
     },
     "metadata": {},
     "output_type": "display_data"
    }
   ],
   "source": [
    "#checking the outliers for height\n",
    "plt.figure(figsize=(7,5))\n",
    "sns.boxplot(df['height'])\n",
    "plt.title('Boxplot of height')\n",
    "plt.xlabel('height')\n",
    "plt.show()"
   ]
  },
  {
   "cell_type": "code",
   "execution_count": 86,
   "id": "667342db",
   "metadata": {},
   "outputs": [
    {
     "data": {
      "image/png": "[encoded data removed]",
      "text/plain": [
       "<Figure size 700x500 with 1 Axes>"
      ]
     },
     "metadata": {},
     "output_type": "display_data"
    }
   ],
   "source": [
    "#to remove outliers\n",
    "df = df[df['bmi'] <= 37]\n",
    "\n",
    "#checking the outliers for bmi\n",
    "plt.figure(figsize=(7,5))\n",
    "sns.boxplot(df['bmi'])\n",
    "plt.title('Boxplot of BMI')\n",
    "plt.xlabel('BMI')\n",
    "plt.show()"
   ]
  },
  {
   "cell_type": "code",
   "execution_count": 87,
   "id": "957751a4",
   "metadata": {},
   "outputs": [
    {
     "data": {
      "image/png": "[encoded data removed]",
      "text/plain": [
       "<Figure size 700x500 with 1 Axes>"
      ]
     },
     "metadata": {},
     "output_type": "display_data"
    }
   ],
   "source": [
    "#to remove outliers\n",
    "df = df[df['weight']<=100]\n",
    "\n",
    "#checking the outliers for weight\n",
    "plt.figure(figsize=(7,5))\n",
    "sns.boxplot(df['weight'])\n",
    "plt.title('Boxplot of weight')\n",
    "plt.xlabel('Weight')\n",
    "plt.show()"
   ]
  },
  {
   "cell_type": "code",
   "execution_count": 88,
   "id": "7ba19664",
   "metadata": {},
   "outputs": [
    {
     "data": {
      "image/png": "[encoded data removed]",
      "text/plain": [
       "<Figure size 700x500 with 1 Axes>"
      ]
     },
     "metadata": {},
     "output_type": "display_data"
    }
   ],
   "source": [
    "#to remove outliers\n",
    "df = df[df['height']<=180]\n",
    "df = df[df['height']>=150]\n",
    "\n",
    "#checking the outliers for height\n",
    "plt.figure(figsize=(7,5))\n",
    "sns.boxplot(df['height'])\n",
    "plt.title('Boxplot of height')\n",
    "plt.xlabel('height')\n",
    "plt.show()"
   ]
  },
  {
   "cell_type": "code",
   "execution_count": 89,
   "id": "a87a65cb",
   "metadata": {},
   "outputs": [
    {
     "data": {
      "text/plain": [
       "(     gender  height  ap_hi  ap_lo  cholesterol  gluc  smoke  alco  active  \\\n",
       " 0         2     168  110.0     80          1.0     1      0   0.0     1.0   \n",
       " 1         1     156  140.0     90          3.0     1      0   0.0     1.0   \n",
       " 2         1     165  130.0     70          3.0     1      0   0.0     0.0   \n",
       " 3         2     169  150.0    100          1.0     1      0   0.0     1.0   \n",
       " 4         1     156  100.0     60          1.0     1      0   0.0     0.0   \n",
       " ..      ...     ...    ...    ...          ...   ...    ...   ...     ...   \n",
       " 994       1     166  110.0     70          1.0     1      0   0.0     1.0   \n",
       " 995       1     158  130.0     90          1.0     2      0   0.0     1.0   \n",
       " 996       2     165  150.0     90          1.0     1      0   0.0     1.0   \n",
       " 997       2     171  120.0     80          1.0     1      0   0.0     1.0   \n",
       " 998       1     158  130.0     80          1.0     1      0   0.0     0.0   \n",
       " \n",
       "      cardio  age_years        bmi  weight  \n",
       " 0         0         50  21.967120    85.0  \n",
       " 1         1         55  34.927679    64.0  \n",
       " 2         1         51  23.507805    82.0  \n",
       " 3         1         48  28.710479    56.0  \n",
       " 4         0         47  23.011177    67.0  \n",
       " ..      ...        ...        ...     ...  \n",
       " 994       0         40  23.225432    64.0  \n",
       " 995       1         61  32.046146    80.0  \n",
       " 996       0         50  22.773186    62.0  \n",
       " 997       0         64  23.255019    68.0  \n",
       " 998       0         57  31.645570    79.0  \n",
       " \n",
       " [884 rows x 13 columns],\n",
       " 0      Hypertension Stage 1\n",
       " 1      Hypertension Stage 2\n",
       " 2      Hypertension Stage 1\n",
       " 3      Hypertension Stage 2\n",
       " 4                    Normal\n",
       "                ...         \n",
       " 994                  Normal\n",
       " 995    Hypertension Stage 1\n",
       " 996    Hypertension Stage 2\n",
       " 997    Hypertension Stage 1\n",
       " 998    Hypertension Stage 1\n",
       " Name: bp_category, Length: 884, dtype: object)"
      ]
     },
     "execution_count": 89,
     "metadata": {},
     "output_type": "execute_result"
    }
   ],
   "source": [
    "x=df.drop(['id','bp_category','bp_category_encoded','age'],axis=1)\n",
    "y=df['bp_category']\n",
    "x,y"
   ]
  },
  {
   "cell_type": "markdown",
   "id": "addafa0d",
   "metadata": {},
   "source": [
    "### Spit the data into training and testing sets ."
   ]
  },
  {
   "cell_type": "code",
   "execution_count": 90,
   "id": "88b85839",
   "metadata": {},
   "outputs": [],
   "source": [
    "x_train, x_test, y_train, y_test = train_test_split(x, y, test_size=0.2, random_state=42)\n"
   ]
  },
  {
   "cell_type": "markdown",
   "id": "d7f1a044",
   "metadata": {},
   "source": [
    "### Normalizing the features . "
   ]
  },
  {
   "cell_type": "code",
   "execution_count": 91,
   "id": "771f547d",
   "metadata": {},
   "outputs": [],
   "source": [
    "# Standardizing the features \n",
    "x= StandardScaler().fit_transform(x) "
   ]
  }
 ],
 "metadata": {
  "kernelspec": {
   "display_name": "Python 3 (ipykernel)",
   "language": "python",
   "name": "python3"
  },
  "language_info": {
   "codemirror_mode": {
    "name": "ipython",
    "version": 3
   },
   "file_extension": ".py",
   "mimetype": "text/x-python",
   "name": "python",
   "nbconvert_exporter": "python",
   "pygments_lexer": "ipython3",
   "version": "3.11.5"
  }
 },
 "nbformat": 4,
 "nbformat_minor": 5
}
